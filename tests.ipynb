{
 "cells": [
  {
   "cell_type": "code",
   "execution_count": 2,
   "id": "294d37c8",
   "metadata": {},
   "outputs": [],
   "source": [
    "%load_ext autoreload\n",
    "%autoreload 2"
   ]
  },
  {
   "cell_type": "code",
   "execution_count": 153,
   "id": "b74ef008",
   "metadata": {},
   "outputs": [],
   "source": [
    "import torch\n",
    "import torch.nn as nn\n",
    "\n",
    "from mamba import S4_with_shared_A, S4_base, MultiChannelS4\n",
    "import ipytest\n",
    "import pytest\n",
    "ipytest.autoconfig()"
   ]
  },
  {
   "cell_type": "code",
   "execution_count": null,
   "id": "1d0da8d5",
   "metadata": {},
   "outputs": [
    {
     "name": "stdout",
     "output_type": "stream",
     "text": [
      "\u001b[32m.\u001b[0m\u001b[32m.\u001b[0m\u001b[32m                                                                                           [100%]\u001b[0m\n",
      "\u001b[32m\u001b[32m\u001b[1m2 passed\u001b[0m\u001b[32m in 0.02s\u001b[0m\u001b[0m\n"
     ]
    }
   ],
   "source": [
    "%%ipytest\n",
    "\n",
    "@pytest.mark.parametrize(\"s4_param\",[(1,3),(5,3)],ids=[\"D1N3\",\"D5N3\"])\n",
    "def test_discretize(s4_param):\n",
    "    D,N = s4_param\n",
    "    model = S4_with_shared_A(channels=D,hidden_state=N)\n",
    "    dA,dB = model.discretize()\n",
    "    assert dA.shape == (N,N)\n",
    "    assert dB.shape == (N,D)"
   ]
  },
  {
   "cell_type": "code",
   "execution_count": null,
   "id": "7f1216b3",
   "metadata": {},
   "outputs": [
    {
     "name": "stdout",
     "output_type": "stream",
     "text": [
      "\u001b[32m.\u001b[0m\u001b[32m.\u001b[0m\u001b[32m.\u001b[0m\u001b[32m                                                                                          [100%]\u001b[0m\n",
      "\u001b[32m\u001b[32m\u001b[1m3 passed\u001b[0m\u001b[32m in 0.05s\u001b[0m\u001b[0m\n"
     ]
    }
   ],
   "source": [
    "%%ipytest\n",
    "\n",
    "@pytest.mark.parametrize(\"seq_params\",[(1,3),(7,7)],ids=[\"D1N3\",\"D5N3\"])\n",
    "def test_propagate_dimensional(seq_params):\n",
    "    D,L = seq_params\n",
    "    model = S4_with_shared_A(channels=D,hidden_state=5)\n",
    "    X = torch.rand((D,L))\n",
    "    Y = model.propagate_RNN(X)\n",
    "    assert Y.shape == (D,L)\n",
    "\n",
    "\n",
    "def test_propagate_seq():\n",
    "    L = 7\n",
    "    model = S4_with_shared_A(channels=1,hidden_state=5)\n",
    "    X = torch.rand(L)\n",
    "    Y = model.propagate_RNN(X)\n",
    "    assert Y.dim() == 1\n",
    "    #assert Y.shape == torch.Size([L])"
   ]
  },
  {
   "cell_type": "code",
   "execution_count": null,
   "id": "0f791641",
   "metadata": {},
   "outputs": [
    {
     "name": "stdout",
     "output_type": "stream",
     "text": [
      "\u001b[32m.\u001b[0m\u001b[32m.\u001b[0m\u001b[32m                                                                                           [100%]\u001b[0m\n",
      "\u001b[32m\u001b[32m\u001b[1m2 passed\u001b[0m\u001b[32m in 0.02s\u001b[0m\u001b[0m\n"
     ]
    }
   ],
   "source": [
    "%%ipytest\n",
    "\n",
    "@pytest.mark.parametrize(\"params\",[(1,7),(5,7)],ids=[\"D1\",\"D5\"])\n",
    "def test_con_filter_2D(params):\n",
    "    D,L = params\n",
    "    model = S4_with_shared_A(channels=D,hidden_state=5,seed=42,kernel_max_size=L)\n",
    "    X = torch.rand((D,L))\n",
    "    Y_conv = model.propagate_convolution_filter(X,use_fourier=False)\n",
    "    Y_fourier = model.propagate_convolution_filter(X,use_fourier=True)\n",
    "    Y_rnn = model.propagate_RNN(X)\n",
    "    assert Y_conv.shape == (D,L)\n",
    "    assert Y_fourier.shape == (D,L)\n",
    "    assert torch.allclose(Y_rnn.ravel(),Y_fourier.ravel())\n",
    "    assert torch.allclose(Y_conv.ravel(),Y_fourier.ravel())\n",
    "    assert torch.allclose(Y_conv.ravel(),Y_rnn.ravel())"
   ]
  },
  {
   "cell_type": "code",
   "execution_count": null,
   "id": "fe832b84",
   "metadata": {},
   "outputs": [
    {
     "name": "stdout",
     "output_type": "stream",
     "text": [
      "\u001b[32m.\u001b[0m\u001b[32m                                                                                            [100%]\u001b[0m\n",
      "\u001b[32m\u001b[32m\u001b[1m1 passed\u001b[0m\u001b[32m in 0.01s\u001b[0m\u001b[0m\n"
     ]
    }
   ],
   "source": [
    "%%ipytest\n",
    "\n",
    "def test_con_filter_seq():\n",
    "    D,L = 1,7\n",
    "    model = S4_with_shared_A(channels=1,hidden_state=5,seed=42,kernel_max_size=L)\n",
    "    X = torch.rand(L)\n",
    "    Y_conv = model.propagate_convolution_filter(X,use_fourier=False)\n",
    "    Y_fourier = model.propagate_convolution_filter(X,use_fourier=True)\n",
    "    Y_rnn = model.propagate_RNN(X)\n",
    "    assert Y_conv.shape == (L,)\n",
    "    assert Y_fourier.shape == (L,)\n",
    "    assert torch.allclose(Y_rnn.ravel(),Y_fourier.ravel())\n",
    "    assert torch.allclose(Y_conv.ravel(),Y_fourier.ravel())\n",
    "    assert torch.allclose(Y_conv.ravel(),Y_rnn.ravel())"
   ]
  },
  {
   "cell_type": "code",
   "execution_count": null,
   "id": "b8ae4921",
   "metadata": {},
   "outputs": [
    {
     "name": "stdout",
     "output_type": "stream",
     "text": [
      "\u001b[32m.\u001b[0m\u001b[32m.\u001b[0m\u001b[32m.\u001b[0m\u001b[32m                                                                                          [100%]\u001b[0m\n",
      "\u001b[32m\u001b[32m\u001b[1m3 passed\u001b[0m\u001b[32m in 0.03s\u001b[0m\u001b[0m\n"
     ]
    }
   ],
   "source": [
    "%%ipytest\n",
    "def test_con_filter_seq():\n",
    "    D,L = 1,7\n",
    "    model = S4_with_shared_A(channels=1,hidden_state=5,seed=42,kernel_max_size=L,mode=\"Conv\")\n",
    "    X = torch.rand(L)\n",
    "    Y_conv = model(X)\n",
    "    assert Y_conv.shape == (L,)\n",
    "\n",
    "@pytest.mark.parametrize(\"params\",[(1,7),(5,7)],ids=[\"D1\",\"D5\"])\n",
    "def test_con_filter_dim(params):\n",
    "    D,L = params\n",
    "    model = S4_with_shared_A(channels=D,hidden_state=L,seed=42,kernel_max_size=L,mode=\"Conv\")\n",
    "    X = torch.rand((D,L))\n",
    "    Y_conv = model(X)\n",
    "    assert Y_conv.shape == (D,L)"
   ]
  },
  {
   "cell_type": "code",
   "execution_count": 152,
   "id": "8a8737d4",
   "metadata": {},
   "outputs": [
    {
     "name": "stdout",
     "output_type": "stream",
     "text": [
      "\u001b[32m.\u001b[0m\u001b[32m.\u001b[0m\u001b[32m.\u001b[0m\u001b[32m                                                                                          [100%]\u001b[0m\n",
      "\u001b[32m\u001b[32m\u001b[1m3 passed\u001b[0m\u001b[32m in 0.02s\u001b[0m\u001b[0m\n"
     ]
    }
   ],
   "source": [
    "%%ipytest\n",
    "\n",
    "def test_discretize():\n",
    "    D,N = 1,5\n",
    "    model = S4_base(channels=D,hidden_state=N)\n",
    "    dA,dB = model.discretize()\n",
    "    assert dA.shape == (N,N)\n",
    "    assert dB.shape == (N,D)\n",
    "\n",
    "\n",
    "def test_con_filter_seq():\n",
    "    D,L = 1,7\n",
    "    model = S4_base(channels=1,hidden_state=5,seed=42,kernel_max_size=L,mode=\"Conv\")\n",
    "    X = torch.rand(L)\n",
    "    Y_conv = model(X)\n",
    "    assert Y_conv.shape == (L,)\n",
    "\n",
    "\n",
    "def test_propagate_seq():\n",
    "    L = 7\n",
    "    model = S4_base(channels=1,hidden_state=5)\n",
    "    X = torch.rand(L)\n",
    "    Y = model.propagate_RNN(X)\n",
    "    assert Y.dim() == 1\n",
    "    assert Y.shape == torch.Size([L])\n",
    "\n"
   ]
  },
  {
   "cell_type": "code",
   "execution_count": 196,
   "id": "ed755a68",
   "metadata": {},
   "outputs": [
    {
     "name": "stdout",
     "output_type": "stream",
     "text": [
      "\u001b[32m.\u001b[0m\u001b[32m.\u001b[0m\u001b[32m                                                                                           [100%]\u001b[0m\n",
      "\u001b[32m\u001b[32m\u001b[1m2 passed\u001b[0m\u001b[32m in 0.04s\u001b[0m\u001b[0m\n"
     ]
    }
   ],
   "source": [
    "%%ipytest\n",
    "@pytest.mark.parametrize(\"params\",[(1,7),(5,7)],ids=[\"D1\",\"D5\"])\n",
    "def test_con_filter_dim(params):\n",
    "    D,L = params\n",
    "    model = MultiChannelS4(D=D,hidden_state=L,seed=42,kernel_max_size=L,mode=\"Conv\")\n",
    "    X = torch.rand((D,L))\n",
    "    Y_conv = model.forward(X)\n",
    "    assert Y_conv.shape == (D,L)"
   ]
  },
  {
   "cell_type": "code",
   "execution_count": null,
   "id": "b3c854b6",
   "metadata": {},
   "outputs": [],
   "source": []
  }
 ],
 "metadata": {
  "kernelspec": {
   "display_name": ".ssm (3.13.3)",
   "language": "python",
   "name": "python3"
  },
  "language_info": {
   "codemirror_mode": {
    "name": "ipython",
    "version": 3
   },
   "file_extension": ".py",
   "mimetype": "text/x-python",
   "name": "python",
   "nbconvert_exporter": "python",
   "pygments_lexer": "ipython3",
   "version": "3.13.3"
  }
 },
 "nbformat": 4,
 "nbformat_minor": 5
}
